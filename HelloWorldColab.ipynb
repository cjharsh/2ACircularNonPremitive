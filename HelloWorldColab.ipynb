{
  "nbformat": 4,
  "nbformat_minor": 0,
  "metadata": {
    "colab": {
      "name": "HelloWorldColab.ipynb",
      "version": "0.3.2",
      "provenance": [],
      "include_colab_link": true
    },
    "kernelspec": {
      "name": "python3",
      "display_name": "Python 3"
    }
  },
  "cells": [
    {
      "cell_type": "markdown",
      "metadata": {
        "id": "view-in-github",
        "colab_type": "text"
      },
      "source": [
        "<a href=\"https://colab.research.google.com/github/cjharsh/2ACircularNonPremitive/blob/master/HelloWorldColab.ipynb\" target=\"_parent\"><img src=\"https://colab.research.google.com/assets/colab-badge.svg\" alt=\"Open In Colab\"/></a>"
      ]
    },
    {
      "cell_type": "markdown",
      "metadata": {
        "id": "Ia9vOK3lRY7K",
        "colab_type": "text"
      },
      "source": [
        "So this is my first programme on colab. "
      ]
    },
    {
      "cell_type": "markdown",
      "metadata": {
        "id": "h3xib-K5Rgna",
        "colab_type": "text"
      },
      "source": [
        "I am learning machine learning with tensor flow."
      ]
    },
    {
      "cell_type": "code",
      "metadata": {
        "id": "u8vagJmGPNKf",
        "colab_type": "code",
        "outputId": "328eceb4-dcb7-4711-c3df-61e6592a3bd3",
        "colab": {
          "base_uri": "https://localhost:8080/",
          "height": 34
        }
      },
      "source": [
        "print(\"Hello World\")"
      ],
      "execution_count": 0,
      "outputs": [
        {
          "output_type": "stream",
          "text": [
            "Hello World\n"
          ],
          "name": "stdout"
        }
      ]
    },
    {
      "cell_type": "markdown",
      "metadata": {
        "id": "Tswxsnr8RAIN",
        "colab_type": "text"
      },
      "source": [
        "Perform addition of two numbers"
      ]
    },
    {
      "cell_type": "code",
      "metadata": {
        "id": "36-rsP7lRDki",
        "colab_type": "code",
        "outputId": "071124ad-1bb0-435b-e66a-5c15437cce7c",
        "colab": {
          "base_uri": "https://localhost:8080/",
          "height": 34
        }
      },
      "source": [
        "a = 50\n",
        "b = 600\n",
        "print(a+b)"
      ],
      "execution_count": 0,
      "outputs": [
        {
          "output_type": "stream",
          "text": [
            "650\n"
          ],
          "name": "stdout"
        }
      ]
    },
    {
      "cell_type": "code",
      "metadata": {
        "id": "gI2TVJ3WRH26",
        "colab_type": "code",
        "colab": {}
      },
      "source": [
        "import pandas as pd\n"
      ],
      "execution_count": 0,
      "outputs": []
    }
  ]
}